{
 "cells": [
  {
   "cell_type": "markdown",
   "metadata": {},
   "source": [
    "# Z-функция"
   ]
  },
  {
   "cell_type": "code",
   "execution_count": 1,
   "metadata": {},
   "outputs": [],
   "source": [
    "import random\n",
    "import string\n",
    "import numpy as np"
   ]
  },
  {
   "cell_type": "markdown",
   "metadata": {},
   "source": [
    "## 1.A. Наидлиннейший палиндромный префикс - 1"
   ]
  },
  {
   "cell_type": "markdown",
   "metadata": {},
   "source": [
    "https://codeforces.com/edu/course/2/lesson/3/1/practice/contest/272260/problem/A"
   ]
  },
  {
   "cell_type": "code",
   "execution_count": 2,
   "metadata": {},
   "outputs": [],
   "source": [
    "def is_palindrome(s):\n",
    "    n = len(s)\n",
    "    for i in range(n//2):\n",
    "        if s[i] != s[n-1-i]:\n",
    "            return False\n",
    "    return True"
   ]
  },
  {
   "cell_type": "code",
   "execution_count": 3,
   "metadata": {},
   "outputs": [],
   "source": [
    "def main(s):\n",
    "    result = 0\n",
    "    n = len(s)\n",
    "    for i in range(1, n+1):\n",
    "        if is_palindrome(s[:i]):\n",
    "            result = i\n",
    "    return result"
   ]
  },
  {
   "cell_type": "code",
   "execution_count": 4,
   "metadata": {},
   "outputs": [],
   "source": [
    "data = ['woweffect',\n",
    "        'abccbaabc',\n",
    "        'testme',\n",
    "        'strstr',\n",
    "        'ababab',\n",
    "        'abcdefg',\n",
    "        'tetatet',\n",
    "        'aaaaaaaaaaaaa']"
   ]
  },
  {
   "cell_type": "code",
   "execution_count": 5,
   "metadata": {},
   "outputs": [
    {
     "name": "stdout",
     "output_type": "stream",
     "text": [
      "3\n",
      "6\n",
      "1\n",
      "1\n",
      "5\n",
      "1\n",
      "7\n",
      "13\n"
     ]
    }
   ],
   "source": [
    "for s in data:\n",
    "    print(main(s))"
   ]
  },
  {
   "cell_type": "markdown",
   "metadata": {},
   "source": [
    "## 1.B. Префиксные и суффиксные подстроки - 1"
   ]
  },
  {
   "cell_type": "markdown",
   "metadata": {},
   "source": [
    "https://codeforces.com/edu/course/2/lesson/3/1/practice/contest/272260/problem/B"
   ]
  },
  {
   "cell_type": "code",
   "execution_count": 6,
   "metadata": {},
   "outputs": [],
   "source": [
    "def get_suffs(s):\n",
    "    n = len(s)\n",
    "    suffs = []\n",
    "    for i in range(n):\n",
    "        suffs.append(s[n-i-1:])\n",
    "    return suffs\n",
    "        \n",
    "def get_preffs(s):\n",
    "    preffs = []\n",
    "    n = len(s)\n",
    "    for i in range(n):\n",
    "        preffs.append(s[:i+1])\n",
    "    return preffs"
   ]
  },
  {
   "cell_type": "code",
   "execution_count": 7,
   "metadata": {},
   "outputs": [],
   "source": [
    "def get_substrings(s):\n",
    "    n = len(s)\n",
    "    substrings = []\n",
    "    for i in range(n):\n",
    "        for l in range(1, n-i+1):\n",
    "            substrings.append(s[i:i+l])\n",
    "    return substrings"
   ]
  },
  {
   "cell_type": "code",
   "execution_count": 8,
   "metadata": {},
   "outputs": [],
   "source": [
    "def main(s):\n",
    "    result = 0\n",
    "    flag = False\n",
    "    suffs = get_suffs(s)\n",
    "    preffs = get_preffs(s)\n",
    "    for ss in get_substrings(s):\n",
    "        if ss in suffs:\n",
    "            flag = True\n",
    "        if ss in preffs:\n",
    "            flag = not flag\n",
    "        if flag:\n",
    "            result += 1\n",
    "        flag = False\n",
    "    return result"
   ]
  },
  {
   "cell_type": "code",
   "execution_count": 9,
   "metadata": {},
   "outputs": [],
   "source": [
    "data = ['abacaba',\n",
    "        'aaaa',\n",
    "        'barbarmiakirkudu',\n",
    "        'abaabaababaab']"
   ]
  },
  {
   "cell_type": "code",
   "execution_count": 10,
   "metadata": {},
   "outputs": [
    {
     "name": "stdout",
     "output_type": "stream",
     "text": [
      "10\n",
      "0\n",
      "34\n",
      "41\n"
     ]
    }
   ],
   "source": [
    "for s in data:\n",
    "    print(main(s))"
   ]
  },
  {
   "cell_type": "markdown",
   "metadata": {},
   "source": [
    "## 1.C. Поиск подстроки в строке с джокерами в образце"
   ]
  },
  {
   "cell_type": "markdown",
   "metadata": {},
   "source": [
    "https://codeforces.com/edu/course/2/lesson/3/1/practice/contest/272260/problem/C"
   ]
  },
  {
   "cell_type": "code",
   "execution_count": 52,
   "metadata": {},
   "outputs": [],
   "source": [
    "def get_result(t, p):\n",
    "    count = 0\n",
    "    indices = ''\n",
    "    n = len(t)\n",
    "    m = len(p)\n",
    "    if m > n:\n",
    "        return count, indices\n",
    "    for i in range(n-m+1):\n",
    "        flag = True\n",
    "        for j in range(m):\n",
    "            if p[j] == '?':\n",
    "                continue\n",
    "            if t[i+j] != p[j]:\n",
    "                flag = False\n",
    "                break    \n",
    "        if flag:\n",
    "            count += 1\n",
    "            indices += str(i) + ' '\n",
    "    return count, indices"
   ]
  },
  {
   "cell_type": "code",
   "execution_count": 55,
   "metadata": {},
   "outputs": [],
   "source": [
    "data = [['abacaba', 'a?a'], \n",
    "        ['test', '?????'],\n",
    "        ['abaabaaab', 'a??a'],    \n",
    "        ['ok', '?'], \n",
    "        ['test', 'me']]"
   ]
  },
  {
   "cell_type": "code",
   "execution_count": 56,
   "metadata": {},
   "outputs": [
    {
     "name": "stdout",
     "output_type": "stream",
     "text": [
      "3\n",
      "0 2 4 \n",
      "0\n",
      "\n",
      "3\n",
      "0 2 3 \n",
      "2\n",
      "0 1 \n",
      "0\n",
      "\n"
     ]
    }
   ],
   "source": [
    "for t, p in data:\n",
    "    count, indices = get_result(t, p)\n",
    "    print(count)\n",
    "    print(indices)   "
   ]
  },
  {
   "cell_type": "markdown",
   "metadata": {},
   "source": [
    "## 1.D. Количество хороших подстрок - 1"
   ]
  },
  {
   "cell_type": "markdown",
   "metadata": {},
   "source": [
    "https://codeforces.com/edu/course/2/lesson/3/1/practice/contest/272260/problem/D"
   ]
  },
  {
   "cell_type": "code",
   "execution_count": 114,
   "metadata": {},
   "outputs": [],
   "source": [
    "def generate_subs(s):\n",
    "    n = len(s)\n",
    "    for i in range(n):\n",
    "        for l in range(1, n-i+1):\n",
    "            yield s[i:i+l]"
   ]
  },
  {
   "cell_type": "code",
   "execution_count": 115,
   "metadata": {},
   "outputs": [],
   "source": [
    "def get_result_slow(s, t):\n",
    "    res = 0\n",
    "    for ss in generate_subs(s):\n",
    "        if t not in generate_subs(ss):\n",
    "            res += 1\n",
    "    return res"
   ]
  },
  {
   "cell_type": "code",
   "execution_count": 116,
   "metadata": {},
   "outputs": [],
   "source": [
    "def get_result_fast(s, t):\n",
    "    n = len(s)\n",
    "    m = len(t)\n",
    "    matches = 0\n",
    "    for i in range(n-m+1):\n",
    "        for l in range(m, n-i+1):\n",
    "            jump = False\n",
    "            ss = s[i:i+l]\n",
    "            for j in range(l-m+1):\n",
    "                sss = ss[j:j+m]\n",
    "                if sss == t:\n",
    "                    matches += n-m-i-j+1\n",
    "                    jump = True\n",
    "                    break\n",
    "            if jump:\n",
    "                break\n",
    "    return n*(n+1)//2 - matches"
   ]
  },
  {
   "cell_type": "code",
   "execution_count": 148,
   "metadata": {},
   "outputs": [],
   "source": [
    "def get_indices(s, t, n, m):\n",
    "    indices = []\n",
    "    for i in range(0, n-m+1):\n",
    "        bingo = True\n",
    "        for j in range(m):\n",
    "            if s[i+j] != t[j]:\n",
    "                bingo = False\n",
    "                break\n",
    "        if bingo:\n",
    "            indices.append(i)\n",
    "    return indices\n",
    "\n",
    "def get_result_ultra_fast(s, t):\n",
    "    n = len(s)\n",
    "    m = len(t)\n",
    "    indices = get_indices(s, t, n, m)\n",
    "    x = len(indices)\n",
    "    if x == 0:\n",
    "        result = n*(n+1)//2\n",
    "    else:\n",
    "        l = 0\n",
    "        r = 0\n",
    "        result = 0\n",
    "        for i in range(x+1):\n",
    "            if i == 0:\n",
    "                l = 0\n",
    "                r = indices[i]+m-2\n",
    "            if i == x:\n",
    "                l = indices[i-1]+1\n",
    "                r = n-1\n",
    "            if (i > 0) and (i < x):\n",
    "                l = indices[i-1]+1\n",
    "                r = indices[i]+m-2\n",
    "            result += (r-l+1)*(r-l+2) // 2\n",
    "        result -= x*((m-2)*(m-1)//2)\n",
    "    return result"
   ]
  },
  {
   "cell_type": "code",
   "execution_count": 151,
   "metadata": {},
   "outputs": [],
   "source": [
    "data_1 = [\n",
    "    ['zaza', 'az'],\n",
    "    ['abacaba', 'ab'],\n",
    "    ['aaaaa', 'a'],\n",
    "    ['aaa', 'b'],\n",
    "]"
   ]
  },
  {
   "cell_type": "code",
   "execution_count": 152,
   "metadata": {},
   "outputs": [
    {
     "name": "stdout",
     "output_type": "stream",
     "text": [
      "6 6 6\n",
      "14 14 14\n",
      "0 0 0\n",
      "6 6 6\n"
     ]
    }
   ],
   "source": [
    "for s, t in data_1:\n",
    "    print(get_result_slow(s, t), get_result_fast(s, t), get_result_ultra_fast(s, t))"
   ]
  },
  {
   "cell_type": "code",
   "execution_count": 153,
   "metadata": {},
   "outputs": [],
   "source": [
    "data_2 = [\n",
    "    ['abbbbabbbabb','b'],\n",
    "    ['ababbaa','ab'],\n",
    "    ['az','az'],\n",
    "    ['z','a'],\n",
    "    ['a','aa'],\n",
    "    ['ababaaba','aba'],\n",
    "    ['abcdefgh','fgh'],\n",
    "    ['abacabadaba','ba'],\n",
    "]"
   ]
  },
  {
   "cell_type": "code",
   "execution_count": 155,
   "metadata": {},
   "outputs": [
    {
     "name": "stdout",
     "output_type": "stream",
     "text": [
      "3 3 3\n",
      "14 14 14\n",
      "2 2 2\n",
      "1 1 1\n",
      "1 1 1\n",
      "19 19 19\n",
      "30 30 30\n",
      "24 24 24\n"
     ]
    }
   ],
   "source": [
    "for s, t in data_2:\n",
    "    print(get_result_slow(s, t), get_result_fast(s, t), get_result_ultra_fast(s, t))"
   ]
  },
  {
   "cell_type": "markdown",
   "metadata": {},
   "source": [
    "## 2.A. Z-функция (простая версия)"
   ]
  },
  {
   "cell_type": "markdown",
   "metadata": {},
   "source": [
    "https://codeforces.com/edu/course/2/lesson/3/2/practice/contest/272261/problem/A"
   ]
  },
  {
   "cell_type": "code",
   "execution_count": 20,
   "metadata": {},
   "outputs": [],
   "source": [
    "def z_function(s):\n",
    "    n = len(s)\n",
    "    zz = [0 for i in range(n)]\n",
    "    for i in range(1, n):\n",
    "        suff = s[i:]\n",
    "        for j in range(len(suff)):\n",
    "            if suff[j] != s[j]:\n",
    "                break\n",
    "            else:\n",
    "                zz[i] += 1\n",
    "    return zz"
   ]
  },
  {
   "cell_type": "code",
   "execution_count": 2,
   "metadata": {},
   "outputs": [
    {
     "data": {
      "text/plain": [
       "[0, 0, 1, 0, 3, 0, 1]"
      ]
     },
     "execution_count": 2,
     "metadata": {},
     "output_type": "execute_result"
    }
   ],
   "source": [
    "s = 'abacaba'\n",
    "z_function(s)"
   ]
  },
  {
   "cell_type": "code",
   "execution_count": 3,
   "metadata": {},
   "outputs": [
    {
     "data": {
      "text/plain": [
       "[0, 0, 2, 0, 0, 1, 1, 1]"
      ]
     },
     "execution_count": 3,
     "metadata": {},
     "output_type": "execute_result"
    }
   ],
   "source": [
    "s = 'babaabbb'\n",
    "z_function(s)"
   ]
  },
  {
   "cell_type": "markdown",
   "metadata": {},
   "source": [
    "## 2.B. Z-функция строки Грея"
   ]
  },
  {
   "cell_type": "markdown",
   "metadata": {},
   "source": [
    "https://codeforces.com/edu/course/2/lesson/3/2/practice/contest/272261/problem/B"
   ]
  },
  {
   "cell_type": "code",
   "execution_count": 4,
   "metadata": {},
   "outputs": [],
   "source": [
    "def get_index(k, j):\n",
    "    if j == 0:\n",
    "        return 0\n",
    "    for i in range(k-1, -1, -1):\n",
    "        if j < 2**i:\n",
    "            continue\n",
    "        if j % 2**i == 0:\n",
    "            return 2**i-1"
   ]
  },
  {
   "cell_type": "code",
   "execution_count": 5,
   "metadata": {},
   "outputs": [],
   "source": [
    "data = [\n",
    "    [1, 0],\n",
    "    [2, 0],\n",
    "    [2, 1],\n",
    "    [2, 2],\n",
    "    [3, 0],\n",
    "    [3, 3],\n",
    "    [3, 6],\n",
    "    [3, 4],\n",
    "]"
   ]
  },
  {
   "cell_type": "code",
   "execution_count": 6,
   "metadata": {},
   "outputs": [
    {
     "name": "stdout",
     "output_type": "stream",
     "text": [
      "0\n",
      "0\n",
      "0\n",
      "1\n",
      "0\n",
      "0\n",
      "1\n",
      "3\n"
     ]
    }
   ],
   "source": [
    "for k, j in data:\n",
    "    print(get_index(k, j))"
   ]
  },
  {
   "cell_type": "markdown",
   "metadata": {},
   "source": [
    "## 2.C. Строка по z-функции"
   ]
  },
  {
   "cell_type": "markdown",
   "metadata": {},
   "source": [
    "https://codeforces.com/edu/course/2/lesson/3/2/practice/contest/272261/problem/C"
   ]
  },
  {
   "cell_type": "code",
   "execution_count": 15,
   "metadata": {},
   "outputs": [],
   "source": [
    "def get_letter(i):\n",
    "    # 65-90:  A-Z\n",
    "    # 97-122: a-z\n",
    "    S = 97\n",
    "    B = 65\n",
    "    if i < 26:\n",
    "        return chr(S + i)\n",
    "    else:\n",
    "        return chr(B + i - 26)"
   ]
  },
  {
   "cell_type": "code",
   "execution_count": 16,
   "metadata": {},
   "outputs": [],
   "source": [
    "def construct_string(z):\n",
    "    n = len(z)\n",
    "    letter = 0\n",
    "    s = ''\n",
    "    cursor = 1\n",
    "    for i in range(0, n):\n",
    "        value = z[i]\n",
    "        if i == 0:\n",
    "            if value > 0:\n",
    "                return '!'\n",
    "            else:\n",
    "                s += get_letter(letter)\n",
    "                letter += 1\n",
    "                continue\n",
    "        if value > n - i: \n",
    "            return '!'\n",
    "        if i == cursor:\n",
    "            if value == 0:\n",
    "                s += get_letter(letter)\n",
    "                letter += 1\n",
    "                cursor += 1\n",
    "                continue\n",
    "            if value >= 1:\n",
    "                for j in range(value):\n",
    "                    s += s[j]\n",
    "                cursor = i + value\n",
    "            continue\n",
    "        if cursor > i:\n",
    "            if value <= cursor - i:\n",
    "                if value == 0:\n",
    "                    if s[i] == s[0]:\n",
    "                        return '!'\n",
    "                if value > 0:\n",
    "                    for j in range(value):\n",
    "                        if s[i+j] != s[j]:\n",
    "                            return '!'\n",
    "            if value > cursor - i:\n",
    "                for j in range(cursor-i):\n",
    "                    if s[i+j] != s[j]:\n",
    "                        return '!'\n",
    "                for j in range(i+value-cursor):\n",
    "                    s += s[cursor-i+j]\n",
    "                cursor = i + value\n",
    "    return s"
   ]
  },
  {
   "cell_type": "code",
   "execution_count": 21,
   "metadata": {},
   "outputs": [],
   "source": [
    "def construct_check_string(z):\n",
    "    s_constructed = construct_string(z)\n",
    "    if s_constructed == '!':\n",
    "        return '!'\n",
    "    z_constructed = z_function(s_constructed)\n",
    "    if z_constructed != z:\n",
    "        return '!'\n",
    "    return s_constructed"
   ]
  },
  {
   "cell_type": "code",
   "execution_count": 22,
   "metadata": {},
   "outputs": [],
   "source": [
    "data = [\n",
    "    '0 0 1 0 3 0 1 0 7 0 1 0 3 0 1',\n",
    "    '0 0 0 0 0 0',\n",
    "    '0 4 3 2 1',\n",
    "    '50',\n",
    "    '1 1',\n",
    "]"
   ]
  },
  {
   "cell_type": "code",
   "execution_count": 23,
   "metadata": {},
   "outputs": [
    {
     "name": "stdout",
     "output_type": "stream",
     "text": [
      "abacabadabacaba\n",
      "abcdef\n",
      "aaaaa\n",
      "!\n",
      "!\n"
     ]
    }
   ],
   "source": [
    "for line in data:\n",
    "    z = [int(i) for i in line.split()]\n",
    "    print(construct_check_string(z))"
   ]
  },
  {
   "cell_type": "markdown",
   "metadata": {},
   "source": [
    "## 3.A. Z-функция"
   ]
  },
  {
   "cell_type": "markdown",
   "metadata": {},
   "source": [
    "https://codeforces.com/edu/course/2/lesson/3/3/practice/contest/272263/problem/A"
   ]
  },
  {
   "cell_type": "code",
   "execution_count": 12,
   "metadata": {},
   "outputs": [],
   "source": [
    "def z_function_linear(s):\n",
    "    n = len(s)\n",
    "    # [l, r] - подстрока, сопадающая с префиксом строки [0, r-l] (прообраз) => z[i-l] = z[i]\n",
    "    # i = 6, l = 5, r = 9\n",
    "    # [0, 1, 2, 3, 4]\n",
    "    # [5, 6, 7, 8, 9]\n",
    "    l = 0\n",
    "    r = 0\n",
    "    z = [0 for i in range(n)]\n",
    "    for i in range(1, n):\n",
    "        # если значение i лежит в пределах [l, r]\n",
    "        if i <= r:\n",
    "            # если значение z-функции по индексу прообраза i-l меньше размера строки [i, r]\n",
    "            if z[i-l] < r-i+1:\n",
    "                # то просто копируем значение z-функции по индексу прообраза i-l\n",
    "                z[i] = z[i-l]\n",
    "            # если значение z-функции по индексу прообраза i-l больше размера строки [i, r]\n",
    "            else:\n",
    "                # тогда значение z-функции не меньше длины [i, r] \n",
    "                z[i] = r-i+1\n",
    "                # остальные совпадения добираем наивным алгоритмом\n",
    "                while (z[i] + i) < n and s[z[i]] == s[z[i]+i]:\n",
    "                    z[i] += 1\n",
    "        # если рассматриваемый символ вне строки [l, r]\n",
    "        else:\n",
    "            # считаем z-функцию наивным алгоритмом)\n",
    "            while z[i] + i < n and s[z[i]] == s[z[i]+i]:\n",
    "                z[i] += 1\n",
    "        # пересчитаем границы\n",
    "        if r < i+z[i]-1:\n",
    "            l = i\n",
    "            r = i+z[i]-1\n",
    "    return z"
   ]
  },
  {
   "cell_type": "code",
   "execution_count": 13,
   "metadata": {},
   "outputs": [
    {
     "data": {
      "text/plain": [
       "[0, 0, 1, 0, 3, 0, 1, 0, 7, 0, 1, 0, 3, 0, 1]"
      ]
     },
     "execution_count": 13,
     "metadata": {},
     "output_type": "execute_result"
    }
   ],
   "source": [
    "z_function_linear('abacabadabacaba')"
   ]
  },
  {
   "cell_type": "markdown",
   "metadata": {},
   "source": [
    "## 4.A. Минимальный период строки "
   ]
  },
  {
   "cell_type": "markdown",
   "metadata": {},
   "source": [
    "https://codeforces.com/edu/course/2/lesson/3/4/practice/contest/272262/problem/A"
   ]
  },
  {
   "cell_type": "code",
   "execution_count": 101,
   "metadata": {},
   "outputs": [],
   "source": [
    "def get_min_period(s):\n",
    "    n = len(s)\n",
    "    z = z_function_linear(s)\n",
    "    for i in range(1, n):\n",
    "        if i + z[i] == n:\n",
    "            return s[:i]\n",
    "    return s"
   ]
  },
  {
   "cell_type": "code",
   "execution_count": 102,
   "metadata": {},
   "outputs": [],
   "source": [
    "data = [\n",
    "    'abcabcabca',\n",
    "    'ABACABADABACABA',\n",
    "    'aabaaaba',\n",
    "    'aaaaaaaaaaaa',\n",
    "    'abcdefg',\n",
    "    'xoxxoxx',\n",
    "    'abcdea',\n",
    "]"
   ]
  },
  {
   "cell_type": "code",
   "execution_count": 103,
   "metadata": {},
   "outputs": [
    {
     "name": "stdout",
     "output_type": "stream",
     "text": [
      "abc\n",
      "ABACABAD\n",
      "aaba\n",
      "a\n",
      "abcdefg\n",
      "xox\n",
      "abcde\n"
     ]
    }
   ],
   "source": [
    "for s in data:\n",
    "    print(get_min_period(s))"
   ]
  },
  {
   "cell_type": "markdown",
   "metadata": {},
   "source": [
    "## 4.B. Циклические сдвиги"
   ]
  },
  {
   "cell_type": "markdown",
   "metadata": {},
   "source": [
    "https://codeforces.com/edu/course/2/lesson/3/4/practice/contest/272262/problem/B"
   ]
  },
  {
   "cell_type": "code",
   "execution_count": 171,
   "metadata": {},
   "outputs": [],
   "source": [
    "def get_shift(s, t):\n",
    "    n = len(s)\n",
    "    new_s = t + '$' + s + s\n",
    "    z = z_function_linear(new_s)\n",
    "    for i in range(n+1, 3*n+1):\n",
    "        if z[i] == n:\n",
    "            return i - n - 1\n",
    "    return -1"
   ]
  },
  {
   "cell_type": "code",
   "execution_count": 172,
   "metadata": {},
   "outputs": [],
   "source": [
    "data = [\n",
    "    ['aaaabc',\n",
    "    'aaabca'],\n",
    "    ['abcd',\n",
    "    'acbd'],\n",
    "    ['bababa',\n",
    "    'ababab'],\n",
    "    ['r',\n",
    "    'r'],\n",
    "    ['itmo',\n",
    "    'oitm'],\n",
    "]"
   ]
  },
  {
   "cell_type": "code",
   "execution_count": 173,
   "metadata": {},
   "outputs": [
    {
     "name": "stdout",
     "output_type": "stream",
     "text": [
      "1\n",
      "-1\n",
      "1\n",
      "0\n",
      "3\n"
     ]
    }
   ],
   "source": [
    "for s, t in data:\n",
    "    print(get_shift(s, t))"
   ]
  },
  {
   "cell_type": "markdown",
   "metadata": {},
   "source": [
    "## 4.C. Вхождения префиксов"
   ]
  },
  {
   "cell_type": "markdown",
   "metadata": {},
   "source": [
    "https://codeforces.com/edu/course/2/lesson/3/4/practice/contest/272262/problem/C"
   ]
  },
  {
   "cell_type": "code",
   "execution_count": 31,
   "metadata": {},
   "outputs": [],
   "source": [
    "def get_preffs_matches_naive(s):\n",
    "    result = ''\n",
    "    for preffix in get_preffs(s):\n",
    "        ts = preffix + '$' + s\n",
    "        z = z_function_linear(ts)\n",
    "        if len(preffix) == 1:\n",
    "            print()\n",
    "        matches = 0\n",
    "        for i in range(len(preffix)+1, len(ts)):\n",
    "            if z[i] == len(preffix):\n",
    "                matches += 1\n",
    "        result += str(matches) + ' '\n",
    "    return result"
   ]
  },
  {
   "cell_type": "code",
   "execution_count": 14,
   "metadata": {},
   "outputs": [],
   "source": [
    "def get_preffs_matches(s):\n",
    "    n = len(s)\n",
    "    result = [1 for i in range(n)]\n",
    "    z = z_function_linear(s)\n",
    "    for i in range(n):\n",
    "        for j in range(z[i]):\n",
    "            result[j] += 1\n",
    "    return result"
   ]
  },
  {
   "cell_type": "code",
   "execution_count": 15,
   "metadata": {},
   "outputs": [],
   "source": [
    "def get_preffs_matches_counter(s):\n",
    "    i_max = 0\n",
    "    n = len(s)\n",
    "    result = [1 for i in range(n)]\n",
    "    counter = [0 for i in range(n)]\n",
    "    z = z_function_linear(s)\n",
    "    for i in range(0, n):\n",
    "        if z[i] > 0:\n",
    "            if z[i] > i_max:\n",
    "                i_max = z[i]\n",
    "            counter[z[i]] += 1\n",
    "    for i in range(i_max, 0, -1):\n",
    "        result[i-1] = result[i] + counter[i]\n",
    "    return result"
   ]
  },
  {
   "cell_type": "code",
   "execution_count": 16,
   "metadata": {},
   "outputs": [],
   "source": [
    "data = [\n",
    "    'abacaba',\n",
    "    'eeeee',\n",
    "    'abcdef',\n",
    "    'ababababa',\n",
    "    'kekkekkek',\n",
    "]"
   ]
  },
  {
   "cell_type": "code",
   "execution_count": 19,
   "metadata": {},
   "outputs": [
    {
     "name": "stdout",
     "output_type": "stream",
     "text": [
      "[4, 2, 2, 1, 1, 1, 1]\n",
      "[4, 2, 2, 1, 1, 1, 1]\n",
      "\n",
      "[5, 4, 3, 2, 1]\n",
      "[5, 4, 3, 2, 1]\n",
      "\n",
      "[1, 1, 1, 1, 1, 1]\n",
      "[1, 1, 1, 1, 1, 1]\n",
      "\n",
      "[5, 4, 4, 3, 3, 2, 2, 1, 1]\n",
      "[5, 4, 4, 3, 3, 2, 2, 1, 1]\n",
      "\n",
      "[6, 3, 3, 2, 2, 2, 1, 1, 1]\n",
      "[6, 3, 3, 2, 2, 2, 1, 1, 1]\n",
      "\n"
     ]
    }
   ],
   "source": [
    "for s in data:\n",
    "    print(get_preffs_matches(s))\n",
    "    print(get_preffs_matches_counter(s))\n",
    "    print()"
   ]
  },
  {
   "cell_type": "markdown",
   "metadata": {},
   "source": [
    "## 4.D. Палиндромный префикс"
   ]
  },
  {
   "cell_type": "markdown",
   "metadata": {},
   "source": [
    "https://codeforces.com/edu/course/2/lesson/3/4/practice/contest/272262/problem/D"
   ]
  },
  {
   "cell_type": "code",
   "execution_count": 3,
   "metadata": {},
   "outputs": [],
   "source": [
    "def get_reversed(s):\n",
    "    n = len(s)\n",
    "    s_reversed = ''\n",
    "    for i in range(n-1, -1, -1):\n",
    "        s_reversed += s[i]\n",
    "    return s_reversed"
   ]
  },
  {
   "cell_type": "code",
   "execution_count": 99,
   "metadata": {},
   "outputs": [],
   "source": [
    "def get_max_palindrome_preff(s):\n",
    "    r = get_reversed(s)\n",
    "    z = z_function_linear(s + '$' + r)\n",
    "    n = 2*len(s)+1\n",
    "    m = 0\n",
    "    for i in range(n):\n",
    "        if z[i] + i == n:\n",
    "            if z[i] > m:\n",
    "                m = z[i]\n",
    "    return m"
   ]
  },
  {
   "cell_type": "code",
   "execution_count": 100,
   "metadata": {},
   "outputs": [],
   "source": [
    "data = [\n",
    "    'aaab',\n",
    "    'abab',\n",
    "]"
   ]
  },
  {
   "cell_type": "code",
   "execution_count": 101,
   "metadata": {},
   "outputs": [
    {
     "name": "stdout",
     "output_type": "stream",
     "text": [
      "3\n",
      "3\n"
     ]
    }
   ],
   "source": [
    "for s in data:\n",
    "    print(get_max_palindrome_preff(s))"
   ]
  },
  {
   "cell_type": "code",
   "execution_count": 102,
   "metadata": {},
   "outputs": [],
   "source": [
    "n = 4*10**5\n",
    "\n",
    "s = ''\n",
    "for i in range(n):\n",
    "    letter = random.choice(string.ascii_lowercase[:1])\n",
    "    s += letter"
   ]
  },
  {
   "cell_type": "code",
   "execution_count": 103,
   "metadata": {},
   "outputs": [
    {
     "name": "stdout",
     "output_type": "stream",
     "text": [
      "558 ms ± 0 ns per loop (mean ± std. dev. of 1 run, 1 loop each)\n"
     ]
    }
   ],
   "source": [
    "%%timeit -n 1 -r 1\n",
    "\n",
    "get_max_palindrome_preff(s)"
   ]
  },
  {
   "cell_type": "code",
   "execution_count": 105,
   "metadata": {},
   "outputs": [
    {
     "data": {
      "text/plain": [
       "400000"
      ]
     },
     "execution_count": 105,
     "metadata": {},
     "output_type": "execute_result"
    }
   ],
   "source": [
    "get_max_palindrome_preff(s)"
   ]
  },
  {
   "cell_type": "markdown",
   "metadata": {},
   "source": [
    "## 4.E. Странная операция"
   ]
  },
  {
   "cell_type": "markdown",
   "metadata": {},
   "source": [
    "https://codeforces.com/edu/course/2/lesson/3/4/practice/contest/272262/problem/E"
   ]
  },
  {
   "cell_type": "code",
   "execution_count": 799,
   "metadata": {},
   "outputs": [],
   "source": [
    "def z_to_string(z):\n",
    "    return ''.join(str(el) for el in z)"
   ]
  },
  {
   "cell_type": "code",
   "execution_count": 809,
   "metadata": {},
   "outputs": [],
   "source": [
    "def strange_operation(s, k):\n",
    "    n = len(s)\n",
    "    new_s = ''\n",
    "    for i in range(k, n):\n",
    "        new_s += s[i]\n",
    "    for i in range(k-1, -1, -1):\n",
    "        new_s += s[i]\n",
    "    return new_s"
   ]
  },
  {
   "cell_type": "code",
   "execution_count": 810,
   "metadata": {},
   "outputs": [],
   "source": [
    "def get_all_strange(s):\n",
    "    result = []\n",
    "    for i in range(len(s)+1):\n",
    "        result.append(strange_operation(s, i))\n",
    "    return result"
   ]
  },
  {
   "cell_type": "code",
   "execution_count": 811,
   "metadata": {},
   "outputs": [],
   "source": [
    "def get_k_plus_1_matches(s, t):\n",
    "    matches = []\n",
    "    new_s = t + '$' + s\n",
    "    z = z_function_linear(new_s)\n",
    "    n = len(s)\n",
    "    for i in range(n+1, 2*n+1):\n",
    "        if z[i] + i - n - 1 == n:\n",
    "            matches.append(z[i])\n",
    "    return matches"
   ]
  },
  {
   "cell_type": "code",
   "execution_count": 812,
   "metadata": {},
   "outputs": [],
   "source": [
    "def get_result(s, t):\n",
    "    n = len(s)\n",
    "    m = len(t)\n",
    "    if n != m:\n",
    "        return -1\n",
    "    if n == 1:\n",
    "        if s == t:\n",
    "            return 0\n",
    "        else:\n",
    "            return -1\n",
    "    matches = get_k_plus_1_matches(s, t)\n",
    "    x = len(matches)\n",
    "    new_s = t + '$' + s\n",
    "    for m in matches:\n",
    "        if m == n and x == 1:\n",
    "            return 0\n",
    "        flag = True\n",
    "        for i in range(n-m):\n",
    "            if t[m+i] != s[n-m-i-1]:\n",
    "                flag = False\n",
    "                break\n",
    "        if flag:\n",
    "            return n-m\n",
    "    return -1"
   ]
  },
  {
   "cell_type": "code",
   "execution_count": 813,
   "metadata": {},
   "outputs": [],
   "source": [
    "data = [\n",
    "    ['wpwdwpw', 'wdwpwpw'],\n",
    "    ['codeforces', 'forcesedoc'],\n",
    "    ['zzzz', 'zzzzz'],\n",
    "]"
   ]
  },
  {
   "cell_type": "code",
   "execution_count": 814,
   "metadata": {},
   "outputs": [
    {
     "name": "stdout",
     "output_type": "stream",
     "text": [
      "Yes\n",
      "2\n",
      "Yes\n",
      "4\n",
      "No\n"
     ]
    }
   ],
   "source": [
    "for s, t in data:\n",
    "    r = get_result(s, t)\n",
    "    if r != -1:\n",
    "        print('Yes')\n",
    "        print(r)\n",
    "    else:\n",
    "        print('No')"
   ]
  },
  {
   "cell_type": "code",
   "execution_count": 861,
   "metadata": {},
   "outputs": [],
   "source": [
    "n_trials = 10**6\n",
    "s_length_max = 5\n",
    "n_letters_max = 5"
   ]
  },
  {
   "cell_type": "code",
   "execution_count": 862,
   "metadata": {},
   "outputs": [],
   "source": [
    "for i in range(n_trials):\n",
    "    \n",
    "    s = ''\n",
    "    t = ''\n",
    "    \n",
    "    s_length = random.randint(1, s_length_max)\n",
    "    t_length = random.randint(s_length, s_length+1)\n",
    "    n_letters = random.randint(1, n_letters_max)\n",
    "    \n",
    "    for i in range(s_length):\n",
    "        letter = random.choice(string.ascii_lowercase[:n_letters])\n",
    "        s += str(letter)\n",
    "            \n",
    "    for i in range(t_length):\n",
    "        letter = random.choice(string.ascii_lowercase[:n_letters])\n",
    "        t += str(letter)\n",
    "    \n",
    "    all_t = get_all_strange(s)\n",
    "    \n",
    "    k = get_result(s, t)\n",
    "    \n",
    "    if (k == -1) and (t in all_t):\n",
    "        print(s, t)\n",
    "        print('Предсказано отсутствие сдвига, но перестановка существует')\n",
    "        break\n",
    "    \n",
    "    if (k != -1) and (t not in all_t):\n",
    "        print('Предсказан сдвиг, но перестановки не существует')\n",
    "        break\n",
    "        \n",
    "    if (k != -1) and (t in all_t):\n",
    "        k_right = all_t.index(t)\n",
    "#         print(s, t)\n",
    "#         print(all_t)\n",
    "#         print(k_right, k)\n",
    "        if k_right < k:\n",
    "            print('Предсказан сдвиг, но реальное k меньше полученного')\n",
    "            print(s, t)\n",
    "            print(k, k_right)\n",
    "            break"
   ]
  },
  {
   "cell_type": "markdown",
   "metadata": {},
   "source": [
    "## 4.F. Кратчайшая надстрока"
   ]
  },
  {
   "cell_type": "markdown",
   "metadata": {},
   "source": [
    "https://codeforces.com/edu/course/2/lesson/3/4/practice/contest/272262/problem/F"
   ]
  },
  {
   "cell_type": "code",
   "execution_count": 77,
   "metadata": {},
   "outputs": [],
   "source": [
    "def get_merged_string(s1, s2):\n",
    "    n1 = len(s1)\n",
    "    n2 = len(s2)\n",
    "    x = s1 + \"$\" + s2\n",
    "    z = z_function_linear(x)\n",
    "    for i in range(n2):\n",
    "        if z[n1+1+i] == n1:\n",
    "            return s2\n",
    "        if z[n1+1+i] < n1:\n",
    "            if z[n1+1+i] + i == n2:\n",
    "                return s2 + s1[z[n1+1+i]:]\n",
    "    return s1 + s2"
   ]
  },
  {
   "cell_type": "code",
   "execution_count": 78,
   "metadata": {},
   "outputs": [],
   "source": [
    "def get_result(s, t):\n",
    "    m1 = get_merged_string(s, t)\n",
    "    m2 = get_merged_string(t, s)\n",
    "    n1 = len(m1)\n",
    "    n2 = len(m2)\n",
    "    if n1 > n2:\n",
    "        return m2\n",
    "    else:\n",
    "        return m1"
   ]
  },
  {
   "cell_type": "code",
   "execution_count": 79,
   "metadata": {},
   "outputs": [],
   "source": [
    "data = [\n",
    "    ['abacaba',\n",
    "    'ababa'],\n",
    "    ['itmo',\n",
    "    'university'],\n",
    "    ['for',\n",
    "    'codeforces'],\n",
    "    ['ababab',\n",
    "    'bababa'],\n",
    "    ['x',\n",
    "    'y'],\n",
    "    ['itmo',\n",
    "    'more'],\n",
    "]"
   ]
  },
  {
   "cell_type": "code",
   "execution_count": 80,
   "metadata": {},
   "outputs": [
    {
     "name": "stdout",
     "output_type": "stream",
     "text": [
      "ababacaba\n",
      "itmouniversity\n",
      "codeforces\n",
      "bababab\n",
      "xy\n",
      "itmore\n"
     ]
    }
   ],
   "source": [
    "for s, t in data:\n",
    "    print(get_result(s, t))"
   ]
  },
  {
   "cell_type": "markdown",
   "metadata": {},
   "source": [
    "## 4.G. Кубики"
   ]
  },
  {
   "cell_type": "markdown",
   "metadata": {},
   "source": [
    "https://codeforces.com/edu/course/2/lesson/3/4/practice/contest/272262/problem/G"
   ]
  },
  {
   "cell_type": "code",
   "execution_count": 69,
   "metadata": {},
   "outputs": [],
   "source": [
    "def get_reversed_array(s):\n",
    "    n = len(s)\n",
    "    s_reversed = []\n",
    "    for i in range(n-1, -1, -1):\n",
    "        s_reversed.append(s[i])\n",
    "    return s_reversed"
   ]
  },
  {
   "cell_type": "code",
   "execution_count": 70,
   "metadata": {},
   "outputs": [],
   "source": [
    "def generate_palindrome_preffs(s):\n",
    "    result = []\n",
    "    n = len(s)\n",
    "    r = get_reversed_array(s)\n",
    "    z = z_function_linear(s + ['$'] + r)\n",
    "    for i in range(n):\n",
    "        if z[n+1+i] + i == n:\n",
    "            #palindromes: [:z[n+1+i]]\n",
    "            if z[n+1+i] > 1 and z[n+1+i] % 2 == 0:\n",
    "                result.append(n - z[n+1+i] // 2)\n",
    "    result.append(n)\n",
    "    return result"
   ]
  },
  {
   "cell_type": "code",
   "execution_count": 79,
   "metadata": {},
   "outputs": [],
   "source": [
    "s = [1, 1, 2, 2, 1, 1]"
   ]
  },
  {
   "cell_type": "code",
   "execution_count": 80,
   "metadata": {},
   "outputs": [
    {
     "data": {
      "text/plain": [
       "[3, 5, 6]"
      ]
     },
     "execution_count": 80,
     "metadata": {},
     "output_type": "execute_result"
    }
   ],
   "source": [
    "generate_palindrome_preffs(s)"
   ]
  },
  {
   "cell_type": "code",
   "execution_count": 83,
   "metadata": {},
   "outputs": [
    {
     "data": {
      "text/plain": [
       "[2, 3, 4]"
      ]
     },
     "execution_count": 83,
     "metadata": {},
     "output_type": "execute_result"
    }
   ],
   "source": [
    "s = [1, 1, 1, 1]\n",
    "generate_palindrome_preffs(s)"
   ]
  },
  {
   "cell_type": "markdown",
   "metadata": {},
   "source": [
    "## 4.H. Сумма длин различных подстрок"
   ]
  },
  {
   "cell_type": "markdown",
   "metadata": {},
   "source": [
    "https://codeforces.com/edu/course/2/lesson/3/4/practice/contest/272262/problem/H"
   ]
  },
  {
   "cell_type": "code",
   "execution_count": 28,
   "metadata": {},
   "outputs": [],
   "source": [
    "def get_preffs(s):\n",
    "    n = len(s)\n",
    "    for i in range(n):\n",
    "        yield s[:i+1]"
   ]
  },
  {
   "cell_type": "code",
   "execution_count": 29,
   "metadata": {},
   "outputs": [],
   "source": [
    "def get_subs_number(s):\n",
    "    result = 0\n",
    "    n = len(s)\n",
    "    suff = ''\n",
    "    for i in range(n-1, -1, -1):\n",
    "        suff = s[i] + suff\n",
    "        z = z_function_linear(suff)\n",
    "        result += n - i - max(z)\n",
    "    return result"
   ]
  },
  {
   "cell_type": "code",
   "execution_count": 30,
   "metadata": {},
   "outputs": [],
   "source": [
    "def get_subs_sum_length(s):\n",
    "    result = 0\n",
    "    n = len(s)\n",
    "    suff = ''\n",
    "    for i in range(n-1, -1, -1):\n",
    "        suff = s[i] + suff\n",
    "        z = z_function_linear(suff)\n",
    "        m = max(z)\n",
    "        result += (n-i)*(n-i+1)//2 - m*(m+1)//2\n",
    "    return result"
   ]
  },
  {
   "cell_type": "code",
   "execution_count": 31,
   "metadata": {},
   "outputs": [
    {
     "data": {
      "text/plain": [
       "19"
      ]
     },
     "execution_count": 31,
     "metadata": {},
     "output_type": "execute_result"
    }
   ],
   "source": [
    "get_subs_sum_length('BOBR')"
   ]
  },
  {
   "cell_type": "code",
   "execution_count": 32,
   "metadata": {},
   "outputs": [
    {
     "data": {
      "text/plain": [
       "73"
      ]
     },
     "execution_count": 32,
     "metadata": {},
     "output_type": "execute_result"
    }
   ],
   "source": [
    "get_subs_sum_length('abacaba')"
   ]
  },
  {
   "cell_type": "markdown",
   "metadata": {},
   "source": [
    "## 4.I. Неточный поиск"
   ]
  },
  {
   "cell_type": "markdown",
   "metadata": {},
   "source": [
    "https://codeforces.com/edu/course/2/lesson/3/4/practice/contest/272262/problem/I"
   ]
  },
  {
   "cell_type": "code",
   "execution_count": 33,
   "metadata": {},
   "outputs": [],
   "source": [
    "reversed_str = lambda s: ''.join(el for el in reversed(s))"
   ]
  },
  {
   "cell_type": "code",
   "execution_count": 34,
   "metadata": {},
   "outputs": [],
   "source": [
    "def get_left_z(t, p, n, m):\n",
    "    s = p + '$' + t\n",
    "    z = z_function_linear(s)\n",
    "    a = []\n",
    "    for i in range(n-m+1):\n",
    "        a.append(z[m+1+i])\n",
    "    return a"
   ]
  },
  {
   "cell_type": "code",
   "execution_count": 35,
   "metadata": {},
   "outputs": [],
   "source": [
    "def get_right_z(t, p, n, m):\n",
    "    t_r = reversed_str(t)\n",
    "    p_r = reversed_str(p)\n",
    "    s = p_r + '$' + t_r\n",
    "    z = z_function_linear(s)\n",
    "    a = []\n",
    "    for i in range(n-m+1):\n",
    "        a.append(z[n+1-i])\n",
    "    return a"
   ]
  },
  {
   "cell_type": "code",
   "execution_count": 36,
   "metadata": {},
   "outputs": [],
   "source": [
    "def get_indices(t, p, k):\n",
    "    n = len(t)\n",
    "    m = len(p)\n",
    "    z1 = get_left_z(t, p, n, m)\n",
    "    z2 = get_right_z(t, p, n, m)\n",
    "    indices = []\n",
    "    for i in range(n-m+1):\n",
    "        if z1[i] + z2[i] + k >= m:\n",
    "            indices.append(i+1)\n",
    "    return indices"
   ]
  },
  {
   "cell_type": "code",
   "execution_count": 37,
   "metadata": {},
   "outputs": [
    {
     "data": {
      "text/plain": [
       "[1, 3, 4, 5]"
      ]
     },
     "execution_count": 37,
     "metadata": {},
     "output_type": "execute_result"
    }
   ],
   "source": [
    "t = 'abacaaa'\n",
    "p = 'aaa'\n",
    "k = 2\n",
    "\n",
    "get_indices(t, p, k)"
   ]
  },
  {
   "cell_type": "code",
   "execution_count": 38,
   "metadata": {},
   "outputs": [
    {
     "data": {
      "text/plain": [
       "[1]"
      ]
     },
     "execution_count": 38,
     "metadata": {},
     "output_type": "execute_result"
    }
   ],
   "source": [
    "t = 'ababa'\n",
    "p = 'aaaaa'\n",
    "k = 3\n",
    "\n",
    "get_indices(t, p, k)"
   ]
  },
  {
   "cell_type": "markdown",
   "metadata": {},
   "source": [
    "## 4.J. Циклические суффиксы"
   ]
  },
  {
   "cell_type": "markdown",
   "metadata": {},
   "source": [
    "https://codeforces.com/edu/course/2/lesson/3/4/practice/contest/272262/problem/J"
   ]
  },
  {
   "cell_type": "code",
   "execution_count": 386,
   "metadata": {},
   "outputs": [],
   "source": [
    "def get_result(s):\n",
    "    n = len(s)\n",
    "    s_inf = s*2\n",
    "    z = z_function_linear(s_inf)\n",
    "    before = 0\n",
    "    for i in range(n):\n",
    "        # если значение z-функции равно нулю => различные символы в начале строки и начале суффикса i+1\n",
    "        if z[i] == 0:\n",
    "            # если буква в суффиксе стоит раньше по алфавиту, чем начальная буква строки\n",
    "            if s[0] > s_inf[i]:\n",
    "                # то суффикс будет расположен ранее в лексикографическом порядке\n",
    "                before += 1\n",
    "        if z[i] > 0 and z[i] < n:\n",
    "            if s[z[i]] > s_inf[i + z[i]]:\n",
    "                before += 1\n",
    "    return before + 1"
   ]
  },
  {
   "cell_type": "code",
   "execution_count": 387,
   "metadata": {},
   "outputs": [
    {
     "data": {
      "text/plain": [
       "5"
      ]
     },
     "execution_count": 387,
     "metadata": {},
     "output_type": "execute_result"
    }
   ],
   "source": [
    "s = 'cabcab'\n",
    "get_result(s)"
   ]
  },
  {
   "cell_type": "code",
   "execution_count": 388,
   "metadata": {},
   "outputs": [
    {
     "data": {
      "text/plain": [
       "3"
      ]
     },
     "execution_count": 388,
     "metadata": {},
     "output_type": "execute_result"
    }
   ],
   "source": [
    "s = 'abracadabra'\n",
    "get_result(s)"
   ]
  },
  {
   "cell_type": "code",
   "execution_count": 389,
   "metadata": {},
   "outputs": [
    {
     "data": {
      "text/plain": [
       "4"
      ]
     },
     "execution_count": 389,
     "metadata": {},
     "output_type": "execute_result"
    }
   ],
   "source": [
    "s = 'bababab'\n",
    "get_result(s)"
   ]
  },
  {
   "cell_type": "code",
   "execution_count": 390,
   "metadata": {},
   "outputs": [
    {
     "data": {
      "text/plain": [
       "1"
      ]
     },
     "execution_count": 390,
     "metadata": {},
     "output_type": "execute_result"
    }
   ],
   "source": [
    "s = 'aaa'\n",
    "get_result(s)"
   ]
  },
  {
   "cell_type": "code",
   "execution_count": null,
   "metadata": {},
   "outputs": [],
   "source": []
  }
 ],
 "metadata": {
  "kernelspec": {
   "display_name": "Python 3",
   "language": "python",
   "name": "python3"
  },
  "language_info": {
   "codemirror_mode": {
    "name": "ipython",
    "version": 3
   },
   "file_extension": ".py",
   "mimetype": "text/x-python",
   "name": "python",
   "nbconvert_exporter": "python",
   "pygments_lexer": "ipython3",
   "version": "3.6.9"
  }
 },
 "nbformat": 4,
 "nbformat_minor": 2
}
